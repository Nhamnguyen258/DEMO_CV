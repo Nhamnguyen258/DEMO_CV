{
  "nbformat": 4,
  "nbformat_minor": 0,
  "metadata": {
    "colab": {
      "provenance": [],
      "toc_visible": true
    },
    "kernelspec": {
      "name": "python3",
      "display_name": "Python 3"
    },
    "language_info": {
      "name": "python"
    },
    "accelerator": "GPU",
    "gpuClass": "standard"
  },
  "cells": [
    {
      "cell_type": "markdown",
      "source": [
        "#Bài toán:Phát hiện lỗi sai và chấm điểm phát âm tiếng Anh bằng AI <br>\n",
        "\n"
      ],
      "metadata": {
        "id": "Gp08MpIstXY_"
      }
    },
    {
      "cell_type": "markdown",
      "source": [
        "##Phương pháp và các bước xử lý bài toán\n",
        "**Ý tưởng:** Tạo một bộ dữ liệu trainin gắn nhãn theo phiên âm(Phonemes), Từ đó sử dụng các mô hình học máy để nhận diện từng phiên âm trong file audio.<br>\n",
        "**Các bước xử lý**:<br>\n",
        "B1: Chuẩn bị dữ liệu làm và gắn nhãn. Từ bộ dữ liệu TIMIT(EU,US,UK), CMU(UK), L2-corpus(GLOBAL), gắn nhãn và lọc dữ liệu không phải tiếng Anh...<br>\n",
        "B2: Data precessing,data cleaning<br>\n",
        "B3: Mã hoá dữ liệu theo phương pháp 2-gram,3-gram,Wav2Vec<br>\n",
        "B4: Mapping phiên âm<br>\n",
        "B5: Hậu xử lý mô hình<br>"
      ],
      "metadata": {
        "id": "4-rAf4NxIv9o"
      }
    },
    {
      "cell_type": "markdown",
      "source": [
        "# Khởi Tạo Môi Trường"
      ],
      "metadata": {
        "id": "Deba8v5UIdPf"
      }
    },
    {
      "cell_type": "code",
      "source": [
        "!pip install transformers\n",
        "!pip install jiwer\n",
        "!pip install phonemizer\n",
        "!pip search espeak\n",
        "!pip install py-espeak-ng\n",
        "!sudo apt-get install python-espeak\n",
        "!sudo apt-get update && sudo apt-get install espeak\n",
        "!pip install espeak"
      ],
      "metadata": {
        "id": "HyicEfXTsHKQ"
      },
      "execution_count": null,
      "outputs": []
    },
    {
      "cell_type": "code",
      "execution_count": null,
      "metadata": {
        "id": "NK-r0IMrovLY"
      },
      "outputs": [],
      "source": [
        "from transformers import Wav2Vec2Processor, Wav2Vec2ForCTC\n",
        "from transformers import Wav2Vec2PhonemeCTCTokenizer\n",
        "import torch\n",
        "import re\n",
        "import librosa\n",
        "import os\n",
        "import pandas as pd\n",
        "from jiwer import wer,cer\n",
        "import warnings\n",
        "warnings.filterwarnings(\"ignore\", category=FutureWarning)"
      ]
    },
    {
      "cell_type": "markdown",
      "source": [
        "# Load file audio#"
      ],
      "metadata": {
        "id": "TA_3cZQzCmXH"
      }
    },
    {
      "cell_type": "code",
      "source": [
        "class ReadLabFile():\n",
        "    def __init__(self,path):\n",
        "        self.path = path\n",
        "        self.path_labs,self.path_wavs = self.path_wavs_1()\n",
        "        \n",
        "    def path_wavs_1(self):\n",
        "        paths = os.listdir(self.path)\n",
        "        path_wavs=[]\n",
        "        path_labs=[]\n",
        "        for path in paths:\n",
        "            if '.wav' in path:\n",
        "                path_wavs.append(path)\n",
        "            if '.lab' in path:\n",
        "                path_labs.append(path)\n",
        "        path_labs.sort()\n",
        "        path_wavs.sort()\n",
        "        return path_labs,path_wavs\n",
        "    \n",
        "    def read_speech_file(self,value_drop=['pau']):\n",
        "        paths = self.path_labs\n",
        "        val = []\n",
        "        valu_=[]\n",
        "        for path in paths:\n",
        "            values = list(pd.read_csv('abc'+'/'+path, sep = ' ')['#'])\n",
        "            val.append(values)\n",
        "        for value in val:\n",
        "            val_ = []\n",
        "            for _ in value:\n",
        "                if _ in  value_drop:\n",
        "                    continue\n",
        "                val_.append(_)\n",
        "            valu_.append(val_)\n",
        "        result = []\n",
        "        for i in valu_:\n",
        "            result.append(' '.join(i))\n",
        "        return result"
      ],
      "metadata": {
        "id": "0bsbwT7cCk_h"
      },
      "execution_count": null,
      "outputs": []
    },
    {
      "cell_type": "markdown",
      "source": [
        "# Khởi tạo mô hình và dự báo kết quả audio#\n",
        "B1: Mã hoá audio file sang dạng numpy/tensor<br>\n",
        "B2: Pretrain Model và dự báo kết quả,mô hình đã được train sẵn với hơn 180 phút training <br>\n",
        "B3: Mapping IPA39 sang dạng IPA69 <br>\n",
        "B4: Trả ra kết quả dự báo của file audio"
      ],
      "metadata": {
        "id": "0SiKWS8GDEDa"
      }
    },
    {
      "cell_type": "code",
      "source": [
        "class FbPretrain():\n",
        "    def __init__(self,path_):\n",
        "        self.path = path_\n",
        "        self.path_labs,self.path_wavs=ReadLabFile(path_).path_wavs_1()\n",
        "        self.two_letter,self.IPA = self. corpus_index()\n",
        "        \n",
        "    def wav_to_numpy_array(self):\n",
        "        list_array_from_wav = []\n",
        "        for path in self.path_wavs:\n",
        "            input_,sr  = librosa.load(self.path+'/'+path,sr = 16000)\n",
        "            list_array_from_wav.append(input_)\n",
        "        return list_array_from_wav\n",
        "    \n",
        "    def list_phonemes2list_IPA(self):\n",
        "        list_predict_wav2list = []\n",
        "        list_array_from_wav = self.wav_to_numpy_array()\n",
        "        processor = Wav2Vec2Processor.from_pretrained(\"facebook/wav2vec2-xlsr-53-espeak-cv-ft\")\n",
        "        model = Wav2Vec2ForCTC.from_pretrained(\"facebook/wav2vec2-xlsr-53-espeak-cv-ft\")\n",
        "        i=0\n",
        "        for array_from_wav in list_array_from_wav:\n",
        "            i=i+1\n",
        "            print(i)\n",
        "            input_values = processor(array_from_wav, return_tensors=\"pt\",padding=True).input_values\n",
        "            logits = model(input_values).logits\n",
        "            predicted_ids = torch.argmax(logits, dim=-1)\n",
        "            predict_wav_list = processor.batch_decode(predicted_ids)\n",
        "            predict_wav_list = predict_wav_list[0].replace('ː',':')\n",
        "            predict_wav_list = predict_wav_list.replace('ɡ','g')\n",
        "            predict_wav_list_ = list(predict_wav_list.split())\n",
        "            list_predict_wav2list.append(predict_wav_list_)\n",
        "        return list_predict_wav2list\n",
        "    \n",
        "    def corpus_index(self):\n",
        "        data = pd.read_excel('/content/wav_file/Fb_phonemes.xlsx')\n",
        "        two_letter = list(data['2-letter'])\n",
        "        IPA=list(data['IPA'])\n",
        "        return two_letter,IPA\n",
        "    \n",
        "    def predict_pretrain(self):\n",
        "        list_phonemes = self.list_phonemes2list_IPA()\n",
        "        two_letter,IPA = self.corpus_index()\n",
        "        list_ =[]\n",
        "        for phonemes in list_phonemes:\n",
        "            idx =[]\n",
        "            for i,phoneme in enumerate(phonemes):\n",
        "                idx.append(IPA.index(phoneme))\n",
        "            list_.append(idx)\n",
        "        return list_\n",
        "    \n",
        "    def list_phonemes2list_L2corpus(self):\n",
        "        lists_ = self.predict_pretrain()\n",
        "        result_2gram=[]\n",
        "        for list_ in lists_:\n",
        "            value_2gram=[]\n",
        "            for id_2gram in list_:\n",
        "                value_2gram.append(self.two_letter[id_2gram])\n",
        "            result_2gram.append(value_2gram)\n",
        "        return result_2gram\n",
        "             \n",
        "    def list_phonemes2string_L2corpus(self):\n",
        "        phonemes2str = []\n",
        "        for result in self.list_phonemes2list_L2corpus():\n",
        "            phonemes2str.append(' '.join(result))\n",
        "        return phonemes2str\n",
        "\n",
        "class Predict():\n",
        "    def __init__(self,path_,model = 'Al'):\n",
        "        self.path_ = path_\n",
        "        self.path_labs,self.path_wavs = ReadLabFile(path_).path_wavs_1()\n",
        "        self.model = model\n",
        "\n",
        "    def predict_with_model(self):\n",
        "        result =FbPretrain(self.path_).list_phonemes2string_L2corpus()\n",
        "        return result"
      ],
      "metadata": {
        "id": "PuaHDxqFC4U_"
      },
      "execution_count": null,
      "outputs": []
    },
    {
      "cell_type": "markdown",
      "source": [
        "# Thẩm định độ chính xác thuật toán và hiển thị kết quả#\n",
        "B1: Kiểm tra độ chính xác của thuật toán theo phương pháp per(phonemes erros),wer(word erros)<br>\n",
        "B2: Hiển thị kết quả<br>"
      ],
      "metadata": {
        "id": "l9_mLRuQDOtD"
      }
    },
    {
      "cell_type": "code",
      "source": [
        "class Score():\n",
        "    def __init__(self,path_,model = 'Al'):\n",
        "        self.path_ = path_\n",
        "        self.hypothesis=Predict(path_,model).predict_with_model()\n",
        "        self.ground_truth = ReadLabFile(path_).read_speech_file()\n",
        "        \n",
        "    def score(self):\n",
        "        accuracy_wer_score =1- wer(self.ground_truth,self.hypothesis)\n",
        "        accuracy_cer_score =1-cer(self.ground_truth,self.hypothesis)\n",
        "        print('Accuracy with wer: ',accuracy_wer_score)\n",
        "        print('Accuracy with cer: ',accuracy_cer_score)\n",
        "        return accuracy_wer_score,accuracy_cer_score\n",
        "\n",
        "    def display_result(self):\n",
        "        hypothesis=self.hypothesis\n",
        "        ground_truth=self.ground_truth\n",
        "        name_lab,name_wav = ReadLabFile(self.path_).path_wavs_1()\n",
        "        data = pd.DataFrame({'name_wav':name_wav,\n",
        "                             'name_lab':name_lab,\n",
        "            'hypothesis':hypothesis,\n",
        "                      'ground_truth':ground_truth})\n",
        "        return data"
      ],
      "metadata": {
        "id": "uwR2AHiJC4de"
      },
      "execution_count": null,
      "outputs": []
    },
    {
      "cell_type": "markdown",
      "source": [
        "### Độ chính xác acuracy"
      ],
      "metadata": {
        "id": "-xTWSf6YKE9K"
      }
    },
    {
      "cell_type": "code",
      "source": [
        "per ,wer = Score('/content/wav_file/abc').score()"
      ],
      "metadata": {
        "id": "-cic7spaKMKx"
      },
      "execution_count": null,
      "outputs": []
    },
    {
      "cell_type": "code",
      "source": [
        "print('Accuracy with wer: ',wer)\n",
        "print('Accuracy with cer: ',per)"
      ],
      "metadata": {
        "colab": {
          "base_uri": "https://localhost:8080/"
        },
        "id": "sMQ_OPW5LE0M",
        "outputId": "862bdaba-fcc5-4565-c994-e2985e0b5cc7"
      },
      "execution_count": null,
      "outputs": [
        {
          "output_type": "stream",
          "name": "stdout",
          "text": [
            "Accuracy with wer:  0.9213759213759214\n",
            "Accuracy with cer:  0.8725637181409296\n"
          ]
        }
      ]
    },
    {
      "cell_type": "markdown",
      "source": [
        "## Hiển thị kết quả"
      ],
      "metadata": {
        "id": "UOkAcxjnLShn"
      }
    },
    {
      "cell_type": "code",
      "source": [
        "data = Score('/content/wav_file/abc').display_result()"
      ],
      "metadata": {
        "id": "c4zIEFlatID_"
      },
      "execution_count": null,
      "outputs": []
    },
    {
      "cell_type": "code",
      "source": [
        "data.head(20)"
      ],
      "metadata": {
        "colab": {
          "base_uri": "https://localhost:8080/",
          "height": 669
        },
        "id": "reIgV9JGNjfP",
        "outputId": "6c9b4481-58f3-4fd9-c942-73bcc6f4f651"
      },
      "execution_count": null,
      "outputs": [
        {
          "output_type": "execute_result",
          "data": {
            "text/plain": [
              "            name_wav          name_lab  \\\n",
              "0   arctic_a0001.wav  arctic_a0001.lab   \n",
              "1   arctic_a0002.wav  arctic_a0002.lab   \n",
              "2   arctic_a0003.wav  arctic_a0003.lab   \n",
              "3   arctic_a0004.wav  arctic_a0004.lab   \n",
              "4   arctic_a0005.wav  arctic_a0005.lab   \n",
              "5   arctic_a0006.wav  arctic_a0006.lab   \n",
              "6   arctic_a0007.wav  arctic_a0007.lab   \n",
              "7   arctic_a0008.wav  arctic_a0008.lab   \n",
              "8   arctic_a0009.wav  arctic_a0009.lab   \n",
              "9   arctic_a0010.wav  arctic_a0010.lab   \n",
              "10  arctic_a0011.wav  arctic_a0011.lab   \n",
              "11  arctic_a0012.wav  arctic_a0012.lab   \n",
              "12  arctic_a0013.wav  arctic_a0013.lab   \n",
              "13  arctic_a0014.wav  arctic_a0014.lab   \n",
              "14  arctic_a0015.wav  arctic_a0015.lab   \n",
              "15  arctic_a0016.wav  arctic_a0016.lab   \n",
              "16  arctic_a0017.wav  arctic_a0017.lab   \n",
              "17  arctic_a0018.wav  arctic_a0018.lab   \n",
              "18  arctic_a0019.wav  arctic_a0019.lab   \n",
              "19  arctic_a0020.wav  arctic_a0020.lab   \n",
              "\n",
              "                                           hypothesis  \\\n",
              "0   ow th er r ah v dh ax d ey n jh er t r ey l f ...   \n",
              "1   n ao t ae t dh ih s p er t ih k y ih l er k ey...   \n",
              "2   f ao dh ax t w eh n t iy ax th t ay m dh ae t ...   \n",
              "3   l ao d b ah t ay m g l ae d t ax s iy y uw aa ...   \n",
              "4                w ih l w iy eh v er f er g eh t ih t   \n",
              "5   g ao d b l eh s ih m ay hh ao p ay l g ao ao n...   \n",
              "6   ae n d y uw aa l w ey z w ao n t t ax s iy ih ...   \n",
              "7   g ae d y ao r l eh t er k ey m jh ah s t ih n ...   \n",
              "8   hh iy t er n d sh aa p l iy ae n d f ey s t g ...   \n",
              "9   ay m p l ey ih ng aa s ih ng g əl hh ae n d ih...   \n",
              "10  ih f ay eh v er n iy d ih d aa f ay t er ih n ...   \n",
              "11  g r ae g s ax n sh ah v d b ae k hh ih z ch ey...   \n",
              "12  hh iy w ah z aa hh eh d sh ao t er dh ae n hh ...   \n",
              "13  n aw y ow r k ah m ih ng d aa n t ax b ih z n ...   \n",
              "14      ih t s dh ax ao r ao r aa b ao r iy aa l ax s   \n",
              "15  dh eh z f ao t ch er ch ax l aa r ay f uh l sh...   \n",
              "16  f r ah m dh ae t m ao m ax n t hh ih z f r eh ...   \n",
              "17                  dh eh r w ah z aa ch ey n jh n aw   \n",
              "18  ay f aa l ow d dh ax l ay n ah v dh ax p r ax ...   \n",
              "19  k l ah b z ae n d b aa l z ae n s ih t iy z g ...   \n",
              "\n",
              "                                         ground_truth  \n",
              "0   ao th er ah v dh ax d ey n jh er t r ey l f ih...  \n",
              "1   n aa t ae t dh ih s p er t ih k y ax l er k ey...  \n",
              "2   f ao r dh ax t w eh n t iy ax th t ay m dh ae ...  \n",
              "3   l ao r d b ah t ay m g l ae d t ax s iy y uw a...  \n",
              "4                w ih l w iy eh v er f er g eh t ih t  \n",
              "5   g aa d b l eh s eh m ay hh ow p ay l g ow aa n...  \n",
              "6   ae n d y uw ao l w ey z w aa n t t ax s iy ih ...  \n",
              "7   g ae d y ao r l eh t er k ey m jh ah s t ih n ...  \n",
              "8   hh iy t er n d sh aa r p l iy ae n d f ey s t ...  \n",
              "9   ay m p l ey ih ng ax s ih ng g ax l hh ae n d ...  \n",
              "10  ih f ay eh v er n iy d ax d ax f ay t er ih n ...  \n",
              "11  g r eh g s ax n sh ah v d b ae k hh ih z ch eh...  \n",
              "12  hh iy w aa z ax hh eh d sh ao r t er dh ae n h...  \n",
              "13  n aw y ao r k ah m ih ng d aw n t ax b ih z n ...  \n",
              "14        ih t s dh ax er ao r ax b ao r iy ae l ax s  \n",
              "15  dh eh r z f ao r t ch er ch ih l ey r ay f ax ...  \n",
              "16  f r ah m dh ae t m ow m ax n t hh ih z f r eh ...  \n",
              "17                  dh eh r w aa z ax ch ey n jh n aw  \n",
              "18  ay f aa l ow d dh ax l ay n ah v dh ax p r ax ...  \n",
              "19  k l ah b z ae n d b ao l z ae n d s ih t iy z ...  "
            ],
            "text/html": [
              "\n",
              "  <div id=\"df-48522894-271c-49ff-a024-a56e40776f20\">\n",
              "    <div class=\"colab-df-container\">\n",
              "      <div>\n",
              "<style scoped>\n",
              "    .dataframe tbody tr th:only-of-type {\n",
              "        vertical-align: middle;\n",
              "    }\n",
              "\n",
              "    .dataframe tbody tr th {\n",
              "        vertical-align: top;\n",
              "    }\n",
              "\n",
              "    .dataframe thead th {\n",
              "        text-align: right;\n",
              "    }\n",
              "</style>\n",
              "<table border=\"1\" class=\"dataframe\">\n",
              "  <thead>\n",
              "    <tr style=\"text-align: right;\">\n",
              "      <th></th>\n",
              "      <th>name_wav</th>\n",
              "      <th>name_lab</th>\n",
              "      <th>hypothesis</th>\n",
              "      <th>ground_truth</th>\n",
              "    </tr>\n",
              "  </thead>\n",
              "  <tbody>\n",
              "    <tr>\n",
              "      <th>0</th>\n",
              "      <td>arctic_a0001.wav</td>\n",
              "      <td>arctic_a0001.lab</td>\n",
              "      <td>ow th er r ah v dh ax d ey n jh er t r ey l f ...</td>\n",
              "      <td>ao th er ah v dh ax d ey n jh er t r ey l f ih...</td>\n",
              "    </tr>\n",
              "    <tr>\n",
              "      <th>1</th>\n",
              "      <td>arctic_a0002.wav</td>\n",
              "      <td>arctic_a0002.lab</td>\n",
              "      <td>n ao t ae t dh ih s p er t ih k y ih l er k ey...</td>\n",
              "      <td>n aa t ae t dh ih s p er t ih k y ax l er k ey...</td>\n",
              "    </tr>\n",
              "    <tr>\n",
              "      <th>2</th>\n",
              "      <td>arctic_a0003.wav</td>\n",
              "      <td>arctic_a0003.lab</td>\n",
              "      <td>f ao dh ax t w eh n t iy ax th t ay m dh ae t ...</td>\n",
              "      <td>f ao r dh ax t w eh n t iy ax th t ay m dh ae ...</td>\n",
              "    </tr>\n",
              "    <tr>\n",
              "      <th>3</th>\n",
              "      <td>arctic_a0004.wav</td>\n",
              "      <td>arctic_a0004.lab</td>\n",
              "      <td>l ao d b ah t ay m g l ae d t ax s iy y uw aa ...</td>\n",
              "      <td>l ao r d b ah t ay m g l ae d t ax s iy y uw a...</td>\n",
              "    </tr>\n",
              "    <tr>\n",
              "      <th>4</th>\n",
              "      <td>arctic_a0005.wav</td>\n",
              "      <td>arctic_a0005.lab</td>\n",
              "      <td>w ih l w iy eh v er f er g eh t ih t</td>\n",
              "      <td>w ih l w iy eh v er f er g eh t ih t</td>\n",
              "    </tr>\n",
              "    <tr>\n",
              "      <th>5</th>\n",
              "      <td>arctic_a0006.wav</td>\n",
              "      <td>arctic_a0006.lab</td>\n",
              "      <td>g ao d b l eh s ih m ay hh ao p ay l g ao ao n...</td>\n",
              "      <td>g aa d b l eh s eh m ay hh ow p ay l g ow aa n...</td>\n",
              "    </tr>\n",
              "    <tr>\n",
              "      <th>6</th>\n",
              "      <td>arctic_a0007.wav</td>\n",
              "      <td>arctic_a0007.lab</td>\n",
              "      <td>ae n d y uw aa l w ey z w ao n t t ax s iy ih ...</td>\n",
              "      <td>ae n d y uw ao l w ey z w aa n t t ax s iy ih ...</td>\n",
              "    </tr>\n",
              "    <tr>\n",
              "      <th>7</th>\n",
              "      <td>arctic_a0008.wav</td>\n",
              "      <td>arctic_a0008.lab</td>\n",
              "      <td>g ae d y ao r l eh t er k ey m jh ah s t ih n ...</td>\n",
              "      <td>g ae d y ao r l eh t er k ey m jh ah s t ih n ...</td>\n",
              "    </tr>\n",
              "    <tr>\n",
              "      <th>8</th>\n",
              "      <td>arctic_a0009.wav</td>\n",
              "      <td>arctic_a0009.lab</td>\n",
              "      <td>hh iy t er n d sh aa p l iy ae n d f ey s t g ...</td>\n",
              "      <td>hh iy t er n d sh aa r p l iy ae n d f ey s t ...</td>\n",
              "    </tr>\n",
              "    <tr>\n",
              "      <th>9</th>\n",
              "      <td>arctic_a0010.wav</td>\n",
              "      <td>arctic_a0010.lab</td>\n",
              "      <td>ay m p l ey ih ng aa s ih ng g əl hh ae n d ih...</td>\n",
              "      <td>ay m p l ey ih ng ax s ih ng g ax l hh ae n d ...</td>\n",
              "    </tr>\n",
              "    <tr>\n",
              "      <th>10</th>\n",
              "      <td>arctic_a0011.wav</td>\n",
              "      <td>arctic_a0011.lab</td>\n",
              "      <td>ih f ay eh v er n iy d ih d aa f ay t er ih n ...</td>\n",
              "      <td>ih f ay eh v er n iy d ax d ax f ay t er ih n ...</td>\n",
              "    </tr>\n",
              "    <tr>\n",
              "      <th>11</th>\n",
              "      <td>arctic_a0012.wav</td>\n",
              "      <td>arctic_a0012.lab</td>\n",
              "      <td>g r ae g s ax n sh ah v d b ae k hh ih z ch ey...</td>\n",
              "      <td>g r eh g s ax n sh ah v d b ae k hh ih z ch eh...</td>\n",
              "    </tr>\n",
              "    <tr>\n",
              "      <th>12</th>\n",
              "      <td>arctic_a0013.wav</td>\n",
              "      <td>arctic_a0013.lab</td>\n",
              "      <td>hh iy w ah z aa hh eh d sh ao t er dh ae n hh ...</td>\n",
              "      <td>hh iy w aa z ax hh eh d sh ao r t er dh ae n h...</td>\n",
              "    </tr>\n",
              "    <tr>\n",
              "      <th>13</th>\n",
              "      <td>arctic_a0014.wav</td>\n",
              "      <td>arctic_a0014.lab</td>\n",
              "      <td>n aw y ow r k ah m ih ng d aa n t ax b ih z n ...</td>\n",
              "      <td>n aw y ao r k ah m ih ng d aw n t ax b ih z n ...</td>\n",
              "    </tr>\n",
              "    <tr>\n",
              "      <th>14</th>\n",
              "      <td>arctic_a0015.wav</td>\n",
              "      <td>arctic_a0015.lab</td>\n",
              "      <td>ih t s dh ax ao r ao r aa b ao r iy aa l ax s</td>\n",
              "      <td>ih t s dh ax er ao r ax b ao r iy ae l ax s</td>\n",
              "    </tr>\n",
              "    <tr>\n",
              "      <th>15</th>\n",
              "      <td>arctic_a0016.wav</td>\n",
              "      <td>arctic_a0016.lab</td>\n",
              "      <td>dh eh z f ao t ch er ch ax l aa r ay f uh l sh...</td>\n",
              "      <td>dh eh r z f ao r t ch er ch ih l ey r ay f ax ...</td>\n",
              "    </tr>\n",
              "    <tr>\n",
              "      <th>16</th>\n",
              "      <td>arctic_a0017.wav</td>\n",
              "      <td>arctic_a0017.lab</td>\n",
              "      <td>f r ah m dh ae t m ao m ax n t hh ih z f r eh ...</td>\n",
              "      <td>f r ah m dh ae t m ow m ax n t hh ih z f r eh ...</td>\n",
              "    </tr>\n",
              "    <tr>\n",
              "      <th>17</th>\n",
              "      <td>arctic_a0018.wav</td>\n",
              "      <td>arctic_a0018.lab</td>\n",
              "      <td>dh eh r w ah z aa ch ey n jh n aw</td>\n",
              "      <td>dh eh r w aa z ax ch ey n jh n aw</td>\n",
              "    </tr>\n",
              "    <tr>\n",
              "      <th>18</th>\n",
              "      <td>arctic_a0019.wav</td>\n",
              "      <td>arctic_a0019.lab</td>\n",
              "      <td>ay f aa l ow d dh ax l ay n ah v dh ax p r ax ...</td>\n",
              "      <td>ay f aa l ow d dh ax l ay n ah v dh ax p r ax ...</td>\n",
              "    </tr>\n",
              "    <tr>\n",
              "      <th>19</th>\n",
              "      <td>arctic_a0020.wav</td>\n",
              "      <td>arctic_a0020.lab</td>\n",
              "      <td>k l ah b z ae n d b aa l z ae n s ih t iy z g ...</td>\n",
              "      <td>k l ah b z ae n d b ao l z ae n d s ih t iy z ...</td>\n",
              "    </tr>\n",
              "  </tbody>\n",
              "</table>\n",
              "</div>\n",
              "      <button class=\"colab-df-convert\" onclick=\"convertToInteractive('df-48522894-271c-49ff-a024-a56e40776f20')\"\n",
              "              title=\"Convert this dataframe to an interactive table.\"\n",
              "              style=\"display:none;\">\n",
              "        \n",
              "  <svg xmlns=\"http://www.w3.org/2000/svg\" height=\"24px\"viewBox=\"0 0 24 24\"\n",
              "       width=\"24px\">\n",
              "    <path d=\"M0 0h24v24H0V0z\" fill=\"none\"/>\n",
              "    <path d=\"M18.56 5.44l.94 2.06.94-2.06 2.06-.94-2.06-.94-.94-2.06-.94 2.06-2.06.94zm-11 1L8.5 8.5l.94-2.06 2.06-.94-2.06-.94L8.5 2.5l-.94 2.06-2.06.94zm10 10l.94 2.06.94-2.06 2.06-.94-2.06-.94-.94-2.06-.94 2.06-2.06.94z\"/><path d=\"M17.41 7.96l-1.37-1.37c-.4-.4-.92-.59-1.43-.59-.52 0-1.04.2-1.43.59L10.3 9.45l-7.72 7.72c-.78.78-.78 2.05 0 2.83L4 21.41c.39.39.9.59 1.41.59.51 0 1.02-.2 1.41-.59l7.78-7.78 2.81-2.81c.8-.78.8-2.07 0-2.86zM5.41 20L4 18.59l7.72-7.72 1.47 1.35L5.41 20z\"/>\n",
              "  </svg>\n",
              "      </button>\n",
              "      \n",
              "  <style>\n",
              "    .colab-df-container {\n",
              "      display:flex;\n",
              "      flex-wrap:wrap;\n",
              "      gap: 12px;\n",
              "    }\n",
              "\n",
              "    .colab-df-convert {\n",
              "      background-color: #E8F0FE;\n",
              "      border: none;\n",
              "      border-radius: 50%;\n",
              "      cursor: pointer;\n",
              "      display: none;\n",
              "      fill: #1967D2;\n",
              "      height: 32px;\n",
              "      padding: 0 0 0 0;\n",
              "      width: 32px;\n",
              "    }\n",
              "\n",
              "    .colab-df-convert:hover {\n",
              "      background-color: #E2EBFA;\n",
              "      box-shadow: 0px 1px 2px rgba(60, 64, 67, 0.3), 0px 1px 3px 1px rgba(60, 64, 67, 0.15);\n",
              "      fill: #174EA6;\n",
              "    }\n",
              "\n",
              "    [theme=dark] .colab-df-convert {\n",
              "      background-color: #3B4455;\n",
              "      fill: #D2E3FC;\n",
              "    }\n",
              "\n",
              "    [theme=dark] .colab-df-convert:hover {\n",
              "      background-color: #434B5C;\n",
              "      box-shadow: 0px 1px 3px 1px rgba(0, 0, 0, 0.15);\n",
              "      filter: drop-shadow(0px 1px 2px rgba(0, 0, 0, 0.3));\n",
              "      fill: #FFFFFF;\n",
              "    }\n",
              "  </style>\n",
              "\n",
              "      <script>\n",
              "        const buttonEl =\n",
              "          document.querySelector('#df-48522894-271c-49ff-a024-a56e40776f20 button.colab-df-convert');\n",
              "        buttonEl.style.display =\n",
              "          google.colab.kernel.accessAllowed ? 'block' : 'none';\n",
              "\n",
              "        async function convertToInteractive(key) {\n",
              "          const element = document.querySelector('#df-48522894-271c-49ff-a024-a56e40776f20');\n",
              "          const dataTable =\n",
              "            await google.colab.kernel.invokeFunction('convertToInteractive',\n",
              "                                                     [key], {});\n",
              "          if (!dataTable) return;\n",
              "\n",
              "          const docLinkHtml = 'Like what you see? Visit the ' +\n",
              "            '<a target=\"_blank\" href=https://colab.research.google.com/notebooks/data_table.ipynb>data table notebook</a>'\n",
              "            + ' to learn more about interactive tables.';\n",
              "          element.innerHTML = '';\n",
              "          dataTable['output_type'] = 'display_data';\n",
              "          await google.colab.output.renderOutput(dataTable, element);\n",
              "          const docLink = document.createElement('div');\n",
              "          docLink.innerHTML = docLinkHtml;\n",
              "          element.appendChild(docLink);\n",
              "        }\n",
              "      </script>\n",
              "    </div>\n",
              "  </div>\n",
              "  "
            ]
          },
          "metadata": {},
          "execution_count": 11
        }
      ]
    },
    {
      "cell_type": "markdown",
      "source": [
        "#Kết Luận<br>\n",
        "Ưu điểm:\n",
        "Kết quả có độ chính xác khá cao, với *Accuracy* khoảng 92% dù chỉ là bản demo nhưng kết quả cũng rất tốt. Bản kiểm tra kết quả chính xác là tập dữ liệu của người Anh địa phương(Scotland)<br>\n",
        "Nhược điểm: Thời gian tính toán mô hình chậm vào khoảng 1s 1 file. Thuật toán cần cải thiện thêm về độ chính xác và tốc độ tính toán."
      ],
      "metadata": {
        "id": "ByT_jZk1Frz2"
      }
    }
  ]
}